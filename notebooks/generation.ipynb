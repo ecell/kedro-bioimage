{
  "nbformat": 4,
  "nbformat_minor": 0,
  "metadata": {
    "celltoolbar": "Tags",
    "kernelspec": {
      "display_name": "Python 3",
      "language": "python",
      "name": "python3"
    },
    "language_info": {
      "codemirror_mode": {
        "name": "ipython",
        "version": 3
      },
      "file_extension": ".py",
      "mimetype": "text/x-python",
      "name": "python",
      "nbconvert_exporter": "python",
      "pygments_lexer": "ipython3",
      "version": "3.8.3"
    },
    "colab": {
      "name": "generation.ipynb",
      "provenance": []
    }
  },
  "cells": [
    {
      "cell_type": "markdown",
      "metadata": {
        "id": "lZuViU2sM1oi"
      },
      "source": [
        "!pip uninstall -y scopyon\n",
        "!pip install git+https://github.com/ecell/scopyon\n",
        "!pip freeze | grep scopyon"
      ]
    },
    {
      "cell_type": "code",
      "metadata": {
        "id": "Sem4fRVeM1oj",
        "outputId": "32c94106-0655-449e-bd94-e26f2c4d3963"
      },
      "source": [
        "import mlflow\n",
        "mlflow.start_run(run_name=\"generation\", nested=True)"
      ],
      "execution_count": null,
      "outputs": [
        {
          "output_type": "execute_result",
          "data": {
            "text/plain": [
              "<ActiveRun: >"
            ]
          },
          "metadata": {
            "tags": []
          },
          "execution_count": 1
        }
      ]
    },
    {
      "cell_type": "code",
      "metadata": {
        "tags": [
          "parameters"
        ],
        "id": "8WfgghKvM1om",
        "outputId": "53de61ad-d6ff-4dad-f5c7-730635722dca"
      },
      "source": [
        "seed = 123\n",
        "num_samples = 5\n",
        "exposure_time = 33.0e-3\n",
        "interval = 33.0e-3\n",
        "num_frames = 10\n",
        "Nm = [100, 100, 100]\n",
        "Dm = [0.222e-12, 0.032e-12, 0.008e-12]\n",
        "transmat = [\n",
        "    [0.0, 0.5, 0.0],\n",
        "    [0.5, 0.0, 0.2],\n",
        "    [0.0, 1.0, 0.0]]"
      ],
      "execution_count": null,
      "outputs": [
        {
          "output_type": "stream",
          "text": [
            "/home/azureuser/miniconda3/lib/python3.8/site-packages/ipykernel/ipkernel.py:287: DeprecationWarning: `should_run_async` will not call `transform_cell` automatically in the future. Please pass the result to `transformed_cell` argument and any exception that happen during thetransform in `preprocessing_exc_tuple` in IPython 7.17 and above.\n",
            "  and should_run_async(code)\n"
          ],
          "name": "stderr"
        }
      ]
    },
    {
      "cell_type": "code",
      "metadata": {
        "id": "6KU1T8SYM1op"
      },
      "source": [
        "from mlflow import log_metric, log_param, log_artifacts\n",
        "log_param(\"seed\", seed)\n",
        "log_param(\"num_samples\", num_samples)\n",
        "log_param(\"exposure_time\", exposure_time)\n",
        "log_param(\"interval\", interval)\n",
        "log_param(\"num_frames\", num_frames)"
      ],
      "execution_count": null,
      "outputs": []
    },
    {
      "cell_type": "code",
      "metadata": {
        "id": "cljhPQkRM1os"
      },
      "source": [
        "nproc = 8"
      ],
      "execution_count": null,
      "outputs": []
    },
    {
      "cell_type": "code",
      "metadata": {
        "id": "uZ0xDZVGM1ou"
      },
      "source": [
        "# !pip install mlflow"
      ],
      "execution_count": null,
      "outputs": []
    },
    {
      "cell_type": "code",
      "metadata": {
        "id": "ieIx-jBCM1ow"
      },
      "source": [
        "import numpy\n",
        "rng = numpy.random.RandomState(seed)"
      ],
      "execution_count": null,
      "outputs": []
    },
    {
      "cell_type": "code",
      "metadata": {
        "id": "tS1QpygrM1oy"
      },
      "source": [
        "import scopyon"
      ],
      "execution_count": null,
      "outputs": []
    },
    {
      "cell_type": "code",
      "metadata": {
        "id": "MlQmGDj6M1o1",
        "outputId": "2b501afc-a934-416f-f1ef-125d7f7980ff"
      },
      "source": [
        "config = scopyon.DefaultConfiguration()\n",
        "config.default.effects.photo_bleaching.switch = False\n",
        "config.default.detector.exposure_time = exposure_time\n",
        "pixel_length = config.default.detector.pixel_length / config.default.magnification\n",
        "L_2 = config.default.detector.image_size[0] * pixel_length * 0.5\n",
        "L_2"
      ],
      "execution_count": null,
      "outputs": [
        {
          "output_type": "stream",
          "text": [
            "/home/azureuser/miniconda3/lib/python3.8/site-packages/ipykernel/ipkernel.py:287: DeprecationWarning: `should_run_async` will not call `transform_cell` automatically in the future. Please pass the result to `transformed_cell` argument and any exception that happen during thetransform in `preprocessing_exc_tuple` in IPython 7.17 and above.\n",
            "  and should_run_async(code)\n"
          ],
          "name": "stderr"
        },
        {
          "output_type": "execute_result",
          "data": {
            "text/plain": [
              "1.6995850622406638e-05"
            ]
          },
          "metadata": {
            "tags": []
          },
          "execution_count": 8
        }
      ]
    },
    {
      "cell_type": "code",
      "metadata": {
        "id": "uVkCK60FM1o3"
      },
      "source": [
        "config.environ.processes = nproc"
      ],
      "execution_count": null,
      "outputs": []
    },
    {
      "cell_type": "code",
      "metadata": {
        "id": "RcVxhdzLM1o5"
      },
      "source": [
        "timepoints = numpy.linspace(0, interval * num_frames, num_frames + 1)\n",
        "ndim = 2"
      ],
      "execution_count": null,
      "outputs": []
    },
    {
      "cell_type": "code",
      "metadata": {
        "id": "bp8KKuFeM1o8"
      },
      "source": [
        "import pathlib\n",
        "artifacts = pathlib.Path(\"./artifacts\")\n",
        "artifacts.mkdir(parents=True, exist_ok=True)"
      ],
      "execution_count": null,
      "outputs": []
    },
    {
      "cell_type": "code",
      "metadata": {
        "id": "QGDavOt3M1o-"
      },
      "source": [
        "config.save(artifacts / 'config.yaml')"
      ],
      "execution_count": null,
      "outputs": []
    },
    {
      "cell_type": "code",
      "metadata": {
        "id": "QjbIajDGM1pB",
        "outputId": "a3fa0c2f-00d5-4150-afee-412d7c1c225f"
      },
      "source": [
        "for i in range(num_samples):\n",
        "    samples = scopyon.sample(timepoints, N=Nm, lower=-L_2, upper=+L_2, ndim=ndim, D=Dm, transmat=transmat, rng=rng)\n",
        "    inputs = [(t, numpy.hstack((points[:, : ndim], points[:, [ndim + 1]], numpy.ones((points.shape[0], 1), dtype=numpy.float64)))) for t, points in zip(timepoints, samples)]\n",
        "    ret = list(scopyon.generate_images(inputs, num_frames=num_frames, config=config, rng=rng, full_output=True))\n",
        "    \n",
        "    inputs_ = []\n",
        "    for t, data in inputs:\n",
        "        inputs_.extend(([t] + list(row) for row in data))\n",
        "    inputs_ = numpy.array(inputs_)\n",
        "    numpy.save(artifacts / f\"inputs{i:03d}.npy\", inputs_)\n",
        "\n",
        "    numpy.save(artifacts / f\"images{i:03d}.npy\", numpy.array([img.as_array() for img, infodict in ret]))\n",
        "\n",
        "    true_data = []\n",
        "    for t, (_, infodict) in zip(timepoints, ret):\n",
        "        true_data.extend([t, key] + list(value) for key, value in infodict['true_data'].items())\n",
        "    true_data = numpy.array(true_data)\n",
        "    numpy.save(artifacts / f\"true_data{i:03d}.npy\", true_data)"
      ],
      "execution_count": null,
      "outputs": [
        {
          "output_type": "stream",
          "text": [
            "/home/azureuser/miniconda3/lib/python3.8/asyncio/events.py:81: DeprecationWarning: `run_cell_async` will not call `transform_cell` automatically in the future. Please pass the result to `transformed_cell` argument and any exception that happen during thetransform in `preprocessing_exc_tuple` in IPython 7.17 and above.\n",
            "  self._context.run(self._callback, *self._args)\n"
          ],
          "name": "stderr"
        }
      ]
    },
    {
      "cell_type": "code",
      "metadata": {
        "id": "1yOle8egM1pC",
        "outputId": "188086bc-8d57-46e1-f756-22493c2c5e88"
      },
      "source": [
        "!ls ./artifacts"
      ],
      "execution_count": null,
      "outputs": [
        {
          "output_type": "stream",
          "text": [
            "config.yaml    images003.npy  inputs002.npy\ttrue_data001.npy\n",
            "images000.npy  images004.npy  inputs003.npy\ttrue_data002.npy\n",
            "images001.npy  inputs000.npy  inputs004.npy\ttrue_data003.npy\n",
            "images002.npy  inputs001.npy  true_data000.npy\ttrue_data004.npy\n"
          ],
          "name": "stdout"
        }
      ]
    },
    {
      "cell_type": "code",
      "metadata": {
        "id": "g2S3vqoxM1pE"
      },
      "source": [
        "log_artifacts(\"./artifacts\")\n",
        "mlflow.end_run()"
      ],
      "execution_count": null,
      "outputs": []
    }
  ]
}
